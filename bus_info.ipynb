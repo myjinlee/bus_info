{
  "nbformat": 4,
  "nbformat_minor": 0,
  "metadata": {
    "colab": {
      "provenance": [],
      "mount_file_id": "13-vyBDPIcVxkiBfeg_Ei_J3IiDdbGOt9",
      "authorship_tag": "ABX9TyP9+8oC0dsLfWcAC/WCsL2p",
      "include_colab_link": true
    },
    "kernelspec": {
      "name": "python3",
      "display_name": "Python 3"
    },
    "language_info": {
      "name": "python"
    }
  },
  "cells": [
    {
      "cell_type": "markdown",
      "metadata": {
        "id": "view-in-github",
        "colab_type": "text"
      },
      "source": [
        "<a href=\"https://colab.research.google.com/github/myjinlee/bus_info/blob/main/bus_info.ipynb\" target=\"_parent\"><img src=\"https://colab.research.google.com/assets/colab-badge.svg\" alt=\"Open In Colab\"/></a>"
      ]
    },
    {
      "cell_type": "code",
      "execution_count": 6,
      "metadata": {
        "id": "iSqdiBJF_kOm",
        "colab": {
          "base_uri": "https://localhost:8080/"
        },
        "outputId": "c0a8b4bc-76fc-46e7-8fc7-27916cd39e0b"
      },
      "outputs": [
        {
          "output_type": "stream",
          "name": "stdout",
          "text": [
            "<?xml version=\"1.0\" encoding=\"UTF-8\" standalone=\"yes\"?><response><comMsgHeader/><msgHeader><queryTime>2024-03-16 01:02:08.228</queryTime><resultCode>0</resultCode><resultMessage>정상적으로 처리되었습니다.</resultMessage></msgHeader><msgBody><busLocationList><endBus>0</endBus><lowPlate>0</lowPlate><plateNo>경기78아1312</plateNo><plateType>3</plateType><remainSeatCnt>48</remainSeatCnt><routeId>228000175</routeId><stationId>228000776</stationId><stationSeq>91</stationSeq></busLocationList><busLocationList><endBus>0</endBus><lowPlate>0</lowPlate><plateNo>경기78아1311</plateNo><plateType>3</plateType><remainSeatCnt>49</remainSeatCnt><routeId>228000175</routeId><stationId>228000663</stationId><stationSeq>98</stationSeq></busLocationList><busLocationList><endBus>0</endBus><lowPlate>0</lowPlate><plateNo>경기78아1317</plateNo><plateType>3</plateType><remainSeatCnt>48</remainSeatCnt><routeId>228000175</routeId><stationId>228000778</stationId><stationSeq>89</stationSeq></busLocationList></msgBody></response>\n"
          ]
        }
      ],
      "source": [
        "import requests\n",
        "url='http://openapi.gbis.go.kr/ws/rest/buslocationservice?serviceKey=1234567890&routeId=228000175'\n",
        "r = requests.get(url)\n",
        "print(r.text)"
      ]
    },
    {
      "cell_type": "code",
      "source": [
        "from bs4 import BeautifulSoup\n",
        "\n",
        "soup = BeautifulSoup(r.text, features = \"xml\")"
      ],
      "metadata": {
        "id": "Ud6tSSETM6XG"
      },
      "execution_count": 7,
      "outputs": []
    },
    {
      "cell_type": "code",
      "source": [
        "soup.find_all('stationId')"
      ],
      "metadata": {
        "colab": {
          "base_uri": "https://localhost:8080/"
        },
        "id": "zk0NuCsnRgOa",
        "outputId": "ddd8dc00-af7d-45ee-8fe0-76d3e2405353"
      },
      "execution_count": 8,
      "outputs": [
        {
          "output_type": "execute_result",
          "data": {
            "text/plain": [
              "[<stationId>228000776</stationId>,\n",
              " <stationId>228000663</stationId>,\n",
              " <stationId>228000778</stationId>]"
            ]
          },
          "metadata": {},
          "execution_count": 8
        }
      ]
    },
    {
      "cell_type": "code",
      "source": [
        "print('학번 =', 2277043, '이름 =', '이명진')"
      ],
      "metadata": {
        "colab": {
          "base_uri": "https://localhost:8080/"
        },
        "id": "aKidCxKxRpzb",
        "outputId": "81280070-a928-4a8c-b61a-c129d8641b6c"
      },
      "execution_count": 9,
      "outputs": [
        {
          "output_type": "stream",
          "name": "stdout",
          "text": [
            "학번 = 2277043 이름 = 이명진\n"
          ]
        }
      ]
    }
  ]
}