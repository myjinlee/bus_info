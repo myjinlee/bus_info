{
  "nbformat": 4,
  "nbformat_minor": 0,
  "metadata": {
    "colab": {
      "provenance": [],
      "mount_file_id": "13-vyBDPIcVxkiBfeg_Ei_J3IiDdbGOt9",
      "authorship_tag": "ABX9TyOn27qNpizKJMJd4OgGqgh7",
      "include_colab_link": true
    },
    "kernelspec": {
      "name": "python3",
      "display_name": "Python 3"
    },
    "language_info": {
      "name": "python"
    }
  },
  "cells": [
    {
      "cell_type": "markdown",
      "metadata": {
        "id": "view-in-github",
        "colab_type": "text"
      },
      "source": [
        "<a href=\"https://colab.research.google.com/github/myjinlee/bus_info/blob/main/bus_info.ipynb\" target=\"_parent\"><img src=\"https://colab.research.google.com/assets/colab-badge.svg\" alt=\"Open In Colab\"/></a>"
      ]
    },
    {
      "cell_type": "code",
      "execution_count": null,
      "metadata": {
        "id": "iSqdiBJF_kOm",
        "colab": {
          "base_uri": "https://localhost:8080/"
        },
        "outputId": "3d7aa339-eba5-4ef5-ad7d-9b9d1a946541"
      },
      "outputs": [
        {
          "output_type": "stream",
          "name": "stdout",
          "text": [
            "<?xml version=\"1.0\" encoding=\"UTF-8\" standalone=\"yes\"?><response><comMsgHeader/><msgHeader><queryTime>2024-03-15 22:21:10.442</queryTime><resultCode>0</resultCode><resultMessage>정상적으로 처리되었습니다.</resultMessage></msgHeader><msgBody><busLocationList><endBus>0</endBus><lowPlate>0</lowPlate><plateNo>경기77바3562</plateNo><plateType>3</plateType><remainSeatCnt>40</remainSeatCnt><routeId>234000002</routeId><stationId>277103391</stationId><stationSeq>29</stationSeq></busLocationList><busLocationList><endBus>0</endBus><lowPlate>0</lowPlate><plateNo>경기77바3760</plateNo><plateType>3</plateType><remainSeatCnt>41</remainSeatCnt><routeId>234000002</routeId><stationId>206000184</stationId><stationSeq>66</stationSeq></busLocationList><busLocationList><endBus>0</endBus><lowPlate>0</lowPlate><plateNo>경기77바1012</plateNo><plateType>3</plateType><remainSeatCnt>45</remainSeatCnt><routeId>234000002</routeId><stationId>277104283</stationId><stationSeq>39</stationSeq></busLocationList><busLocationList><endBus>0</endBus><lowPlate>0</lowPlate><plateNo>경기77바3564</plateNo><plateType>3</plateType><remainSeatCnt>37</remainSeatCnt><routeId>234000002</routeId><stationId>206000175</stationId><stationSeq>76</stationSeq></busLocationList><busLocationList><endBus>0</endBus><lowPlate>0</lowPlate><plateNo>경기77바3757</plateNo><plateType>3</plateType><remainSeatCnt>30</remainSeatCnt><routeId>234000002</routeId><stationId>277103387</stationId><stationSeq>53</stationSeq></busLocationList><busLocationList><endBus>0</endBus><lowPlate>0</lowPlate><plateNo>경기77바1248</plateNo><plateType>3</plateType><remainSeatCnt>42</remainSeatCnt><routeId>234000002</routeId><stationId>206000180</stationId><stationSeq>70</stationSeq></busLocationList><busLocationList><endBus>0</endBus><lowPlate>0</lowPlate><plateNo>경기77바3563</plateNo><plateType>3</plateType><remainSeatCnt>40</remainSeatCnt><routeId>234000002</routeId><stationId>206000321</stationId><stationSeq>14</stationSeq></busLocationList></msgBody></response>\n"
          ]
        }
      ],
      "source": [
        "import requests\n",
        "url='http://openapi.gbis.go.kr/ws/rest/buslocationservice?serviceKey=1234567890&routeId=234000002'\n",
        "r = requests.get(url)\n",
        "print(r.text)"
      ]
    },
    {
      "cell_type": "code",
      "source": [
        "from bs4 import BeautifulSoup\n",
        "\n",
        "soup = BeautifulSoup(r.text, features = \"xml\")"
      ],
      "metadata": {
        "id": "Ud6tSSETM6XG"
      },
      "execution_count": null,
      "outputs": []
    },
    {
      "cell_type": "code",
      "source": [
        "soup.find_all('stationId')"
      ],
      "metadata": {
        "colab": {
          "base_uri": "https://localhost:8080/"
        },
        "id": "zk0NuCsnRgOa",
        "outputId": "94fc2bc3-2346-4fc1-b474-779191999555"
      },
      "execution_count": null,
      "outputs": [
        {
          "output_type": "execute_result",
          "data": {
            "text/plain": [
              "[<stationId>277103391</stationId>,\n",
              " <stationId>206000184</stationId>,\n",
              " <stationId>277104283</stationId>,\n",
              " <stationId>206000175</stationId>,\n",
              " <stationId>277103387</stationId>,\n",
              " <stationId>206000180</stationId>,\n",
              " <stationId>206000321</stationId>]"
            ]
          },
          "metadata": {},
          "execution_count": 4
        }
      ]
    },
    {
      "cell_type": "code",
      "source": [
        "print('학번 =', 2277043, '이름 =', '이명진')"
      ],
      "metadata": {
        "colab": {
          "base_uri": "https://localhost:8080/"
        },
        "id": "aKidCxKxRpzb",
        "outputId": "8cc7c14c-a931-440e-b309-304e268eb1bb"
      },
      "execution_count": null,
      "outputs": [
        {
          "output_type": "stream",
          "name": "stdout",
          "text": [
            "학번 = 2277043 이름 = 이명진\n"
          ]
        }
      ]
    }
  ]
}